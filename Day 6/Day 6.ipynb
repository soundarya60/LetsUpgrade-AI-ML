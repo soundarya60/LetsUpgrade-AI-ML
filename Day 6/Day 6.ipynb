{
 "cells": [
  {
   "cell_type": "markdown",
   "metadata": {},
   "source": [
    "# Question 1:\n",
    "__Assuming that we have some email addresses in the \"username@companyname.com\" format, please write program\n",
    "to print the company name of a given email address__"
   ]
  },
  {
   "cell_type": "code",
   "execution_count": 1,
   "metadata": {},
   "outputs": [
    {
     "name": "stdout",
     "output_type": "stream",
     "text": [
      "Please provide email id:abx@xyz.com\n",
      "xyz\n"
     ]
    }
   ],
   "source": [
    "email = input(\"Please provide email id:\")\n",
    "print(email.split(\"@\")[1].split(\".\")[0])\n",
    "    "
   ]
  },
  {
   "cell_type": "markdown",
   "metadata": {},
   "source": [
    "# Question 2:\n",
    "__Write a program that accepts a comma-separated sequence of words as input and prints the words in a comma\n",
    "separated sequence after sorting them alphabetically.__\n",
    "\n"
   ]
  },
  {
   "cell_type": "code",
   "execution_count": 13,
   "metadata": {
    "scrolled": true
   },
   "outputs": [
    {
     "name": "stdout",
     "output_type": "stream",
     "text": [
      "['india', 'china', 'japan', 'America']\n",
      "['America', 'china', 'india', 'japan']\n"
     ]
    }
   ],
   "source": [
    "stringg= \"india,china,japan,America\"\n",
    "input_seq=stringg.split(\",\")\n",
    "# input_seq=[\"india\",\"china\",\"japan\",\"America\"]\n",
    "print(input_seq)\n",
    "sorted = input_seq.sort()\n",
    "print(input_seq)\n"
   ]
  },
  {
   "cell_type": "markdown",
   "metadata": {},
   "source": [
    "# Question 3:\n",
    "__Create your own Jupyter Notebook for Sets.\n",
    "Reference link: https://www.w3schools.com/python/python_sets.asp__\n"
   ]
  },
  {
   "cell_type": "markdown",
   "metadata": {},
   "source": [
    "# Sets:\n",
    "A set is a collection which is unordered and unindexed. Sets are written with curly brackets.\n",
    "Ex: {\"abc\", \"cdf\", \"pqr\"}\n",
    "\n",
    "# Access Items\n",
    "1) You cannot access items in a set by referring to an index, since sets are unordered the items has no index.\n",
    "2) But you can loop through the set items using a for loop, or ask if a specified value is present in a set, by using the in keyword.\n",
    "3) Once a set is created, you cannot change its items, but you can add new items.\n",
    "4) To add one item to a set use the add() method.\n",
    "5) To add more than one item to a set use the update() method.\n",
    "6) To remove an item in a set, use the remove(), or the discard() method.\n",
    "7) pop() removes last item, clear() empties set and del() deletes entire set"
   ]
  },
  {
   "cell_type": "markdown",
   "metadata": {},
   "source": [
    "# Question 4:\n",
    "__Given a list of n-1 numbers ranging from 1 to n, your task is to find the missing number. There are no duplicates__"
   ]
  },
  {
   "cell_type": "code",
   "execution_count": 42,
   "metadata": {},
   "outputs": [
    {
     "name": "stdout",
     "output_type": "stream",
     "text": [
      "['1', '2', '3', '4', '6', '7', '8', '9']\n",
      "Number 5 is not in list\n"
     ]
    }
   ],
   "source": [
    "input = \"1 2 3 4 6 7 8 9\"\n",
    "b = input.split(\" \")\n",
    "\n",
    "for i in range (1,len(b)):\n",
    "    if i == int(b[i-1]):\n",
    "        pass\n",
    "    else:\n",
    "        print(\"Number {} is not in list\". format(i))\n",
    "        break;"
   ]
  },
  {
   "cell_type": "markdown",
   "metadata": {},
   "source": [
    "# Question 5:\n",
    "__With a given list L, write a program to print this list L after removing all duplicate values with original order reserved__"
   ]
  },
  {
   "cell_type": "code",
   "execution_count": 57,
   "metadata": {},
   "outputs": [
    {
     "name": "stdout",
     "output_type": "stream",
     "text": [
      "['10', '20', '30', '40', '50', '90']\n",
      "10 20 30 40 50 90\n"
     ]
    }
   ],
   "source": [
    "str_input=\"10 20 30 30 40 50 40 90 90\"\n",
    "list_data= str_input.split(\" \")\n",
    "\n",
    "out_list = list(set(list_data))\n",
    "b= out_list.sort()\n",
    "print(out_list)\n",
    "\n",
    "str_out= \" \".join(out_list)\n",
    "print(str_out)\n",
    "\n",
    "\n"
   ]
  }
 ],
 "metadata": {
  "kernelspec": {
   "display_name": "Python 3",
   "language": "python",
   "name": "python3"
  },
  "language_info": {
   "codemirror_mode": {
    "name": "ipython",
    "version": 3
   },
   "file_extension": ".py",
   "mimetype": "text/x-python",
   "name": "python",
   "nbconvert_exporter": "python",
   "pygments_lexer": "ipython3",
   "version": "3.7.1"
  }
 },
 "nbformat": 4,
 "nbformat_minor": 2
}
